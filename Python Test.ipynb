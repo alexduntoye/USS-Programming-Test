{
 "cells": [
  {
   "cell_type": "markdown",
   "metadata": {},
   "source": [
    "# Technical Questions\n",
    "\n",
    "### Instructions\n",
    "\n",
    "You are tasked with solving 3 technical problems including data extraction, manipulation and risk calculation and analysis. \n",
    "\n",
    "We recommend to code Problems 1 and 2 in Jupyter notebook but you are free to use other languages too. \n",
    "\n",
    "For problem 1, please consider the following aspects of your solutions:\n",
    "\n",
    "* Maintainability - could someone easily modify/fix your code?\n",
    "* Style - is the code readable and consistent with best coding practices?\n",
    "* Reusability - is the code easy to adapt to solve similar problems?\n",
    "* Documentation - are there meaningful comments in the code? \n",
    "* Modularity - how easy would it be to integrate your script into a carious other processes?\n",
    "\n",
    "Google is your friend - feel free to look things up, but please keep in mind that you will need to explain how you solved the problem and why you did it in this particular way.\n",
    "\n",
    "Please read **note** carefully as they contain important information.\n",
    "\n",
    "#### We will ask you talk us through your code during the next interview, please be prepared to cover the following points:\n",
    "* Summary of problem - For audience who don't know this exercise\n",
    "* How do you structure your solutions to solve the problem (code the solution)?\n",
    "* What difficulties you encountered and how did you overcome it?\n",
    "* If allowing more time, where you could/wanted do it better?"
   ]
  },
  {
   "cell_type": "markdown",
   "metadata": {},
   "source": [
    "## Problem 1: CSV Data\n",
    "\n",
    "A fund of funds has allocation to five funds: A, B, C, D, and E. An automated process stores the total fund's allocation snapshot on a monthly basis to a csv file. These files are stored in **Exercises/Problem 1/Fund Allocations/**, with each report being stored in its own folder specifying the date on which it was created (i.e. report date). \n",
    "\n",
    "The structure is as follows:\n",
    "\n",
    "    .../Problem 1/Fund Allocations/[report_date]/Fund_Allocations_[valuation_date].csv\n",
    "\n",
    "E.g.\n",
    "\n",
    "    Fund Allocations/\n",
    "    ├───20170102/\n",
    "    │       Fund_Allocations_20170101.csv\n",
    "    ├───20170202/\n",
    "    │       Fund_Allocations_20170201.csv\n",
    "    ├───20170302/\n",
    "    │       Fund_Allocations_20170301.csv\n",
    "    ├───20170402/\n",
    "    │       Fund_Allocations_20170401.csv\n",
    "    ├───20170502/\n",
    "    │       Fund_Allocations_20170501.csv\n",
    "    ├───20170602/\n",
    "    │       Fund_Allocations_20170601.csv\n",
    "    ├───20170702/\n",
    "    │       Fund_Allocations_20170701.csv\n",
    "    ├───20170802/\n",
    "    │       Fund_Allocations_20170801.csv\n",
    "    ├───20170903/\n",
    "    │       Fund_Allocations_20170901.csv\n",
    "\n",
    "Each report file has the following structure (data can differ):\n",
    "\n",
    "| Fund    | Allocation  |\n",
    "|:-------:| -----------:|\n",
    "| Fund A  |  50         |\n",
    "| Fund B  |  75         |\n",
    "| Fund C  |  100        |\n",
    "| Fund D  |  150        |\n",
    "| Fund E  |  185        |\n",
    "\n",
    "\n",
    "**Business Problem**: The team is often asked to provide time series information (e.g. Fund A allocation over time). \n",
    "\n",
    "#### You are asked to write a Python script that combines all reports and saves them to a new csv file. \n",
    "\n",
    "The final output should look like (data can differ):\n",
    "\n",
    "| Valuation Date | Fund    | Allocation  |\n",
    "| -------------- |:-------:| -----------:|\n",
    "| 2017-01-01     | Fund A  |  50         |\n",
    "| 2017-01-01     | Fund B  |  75         |\n",
    "| 2017-01-01     | Fund C  |  100        |\n",
    "| ...            | ...     |  ...        |\n",
    "| 2019-12-01     | Fund C  |  700        |\n",
    "| 2019-12-01     | Fund D  |  400        |\n",
    "| 2019-12-01     | Fund E  |  185        |\n",
    "\n",
    "\n",
    "#### **Notes:** \n",
    "\n",
    "* It is not known how many files there are, we only know there are more than ***35***, so the script should work for an arbitrary number of files \n",
    "* Report file names always follow the same structure: Fund_Allocations_[ValuationDate].csv\n",
    "* The valuation date for each report is specified in its filename in YYYYMMDD format \n",
    "* ***your colleague may somehow mess up a few folder names***\n",
    "* Only one file exists for each valuation date, so duplicate records are not an issue\n",
    "* Often the *report_date* is simply *valuation_date + 1*, but that is not always the case\n",
    "* You are free to use any Python Packages, but as a hint you should manage with OS and Pandas\n"
   ]
  },
  {
   "cell_type": "code",
   "execution_count": 2,
   "metadata": {
    "scrolled": true
   },
   "outputs": [],
   "source": [
    "# please write your solutions here\n"
   ]
  },
  {
   "cell_type": "markdown",
   "metadata": {},
   "source": [
    "## Problem 2: Estimate VaR95\n",
    "\n",
    "<img src=\"VaR.png\"/>\n",
    "\n",
    "\n",
    "In the above figure, we know:\n",
    "CVaR_92.5 = 15000            This means Conditional Value at Risk (Expected Shortfall) at 92.5% confidence level.\n",
    "CVaR_97.5 = 25000            This means Conditional Value at Risk (Expected Shortfall) at 97.5% confidence level.\n",
    "\n",
    "Questions:\n",
    "1. Calculate the purple area\n",
    "2. Estimate VaR_95"
   ]
  },
  {
   "cell_type": "code",
   "execution_count": null,
   "metadata": {},
   "outputs": [],
   "source": []
  },
  {
   "cell_type": "markdown",
   "metadata": {},
   "source": [
    "## Problem 3: VaR calculation and Timeseries investigation\n",
    "\n",
    "Consider the following funds' returns, and assume they follow normal distribution and their mean and standard deviations are:\n",
    "     Mean,    Annual Std:\n",
    "A:    1%,      10%\n",
    "B:    3%,      20%\n",
    "C:    1.5%,    15% \n",
    "D:    2%,      25%\n",
    "E:    1.2%,    13%\n",
    "\n",
    "Assume the correlation between returns are:\n",
    "Fund A and C is 0.3\n",
    "Fund B and D is 0.4\n",
    "With no correlations between all others\n",
    "\n",
    "Your colleague did a Monte carlo simulation of returns for these 5 funds and saved the results in Excel \"Fund_Performance.xlsx\" in \"Problem 3\" folder.\n",
    "\n",
    "### Questions - For all questions here, you can just do it in Excel or any application you like (Matlab or Python).\n",
    "\n",
    "\n",
    "1. Could you please calculate Var_95, CVaR_92.5 and CVaR_97.5 for these 5 funds respectively from the ***simulated returns?\n",
    "2. Could you please calculate ***Parametric*** Var_95, CVaR_92.5 and CVaR_97.5 for these 5 funds respectively?\n",
    "3. Estimate VaR_95 using methods in Problem 2 and do a comparison to historical and parametric VaR_95.\n",
    "4. Assume a portfolio composed of funds A to E equally weighted and rebalanced daily and please estimate VaR_95 and CVaR_95 of the portfolio.\n",
    "5. Bonus point - \n",
    "    *a. Check if your colleague did the Monte Carlo simulation of returns correctly from the results\n",
    "    *b. How can you fix it? - Just describe what's the problem and how to fix it should be enough, not necessarily code it."
   ]
  },
  {
   "cell_type": "code",
   "execution_count": null,
   "metadata": {},
   "outputs": [],
   "source": [
    "\n",
    "\n",
    "\n"
   ]
  }
 ],
 "metadata": {
  "kernelspec": {
   "display_name": "Python 3",
   "language": "python",
   "name": "python3"
  },
  "language_info": {
   "codemirror_mode": {
    "name": "ipython",
    "version": 3
   },
   "file_extension": ".py",
   "mimetype": "text/x-python",
   "name": "python",
   "nbconvert_exporter": "python",
   "pygments_lexer": "ipython3",
   "version": "3.8.3"
  }
 },
 "nbformat": 4,
 "nbformat_minor": 4
}
